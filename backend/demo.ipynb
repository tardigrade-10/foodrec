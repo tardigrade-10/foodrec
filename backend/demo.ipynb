{
 "cells": [
  {
   "cell_type": "code",
   "execution_count": 1,
   "metadata": {},
   "outputs": [],
   "source": [
    "import io\n",
    "import os\n",
    "import json\n",
    "\n",
    "from google.cloud import vision\n",
    "from providers.openai_api import detect_food_dish, analyze_menu, recipe_generator, history_and_origin\n",
    "\n",
    "from dotenv import load_dotenv\n",
    "load_dotenv()\n",
    "\n",
    "client = vision.ImageAnnotatorClient()"
   ]
  },
  {
   "cell_type": "code",
   "execution_count": 2,
   "metadata": {},
   "outputs": [],
   "source": [
    "image_path = f\"test_images/dish1.jpg\"\n",
    "\n",
    "with io.open(image_path, 'rb') as image_file:\n",
    "    content = image_file.read()\n",
    "\n",
    "image = vision.Image(content=content)\n"
   ]
  },
  {
   "cell_type": "code",
   "execution_count": null,
   "metadata": {},
   "outputs": [],
   "source": [
    "response = client.label_detection(image=image)\n",
    "\n",
    "response"
   ]
  },
  {
   "cell_type": "code",
   "execution_count": null,
   "metadata": {},
   "outputs": [],
   "source": [
    "response = client.web_detection(image=image)\n",
    "\n",
    "response.web_detection.web_entities"
   ]
  },
  {
   "cell_type": "code",
   "execution_count": 5,
   "metadata": {},
   "outputs": [
    {
     "data": {
      "text/plain": [
       "'Dal makhani'"
      ]
     },
     "execution_count": 5,
     "metadata": {},
     "output_type": "execute_result"
    }
   ],
   "source": [
    "food_dish = detect_food_dish(response)\n",
    "\n",
    "food_dish"
   ]
  },
  {
   "cell_type": "code",
   "execution_count": 3,
   "metadata": {},
   "outputs": [],
   "source": [
    "image_path = f\"test_images/menu1.jpg\"\n",
    "\n",
    "with io.open(image_path, 'rb') as image_file:\n",
    "    content = image_file.read()\n",
    "\n",
    "image = vision.Image(content=content)\n",
    "\n",
    "\n",
    "response = client.text_detection(image=image)\n",
    "\n",
    "text = response.text_annotations[0].description"
   ]
  },
  {
   "cell_type": "code",
   "execution_count": 4,
   "metadata": {},
   "outputs": [
    {
     "data": {
      "text/plain": [
       "'{\\n    \"healthy\": [\\n        \"Avocado Sourdough\",\\n        \"Bruschetta\",\\n        \"Cornish Crab\",\\n        \"Peri Chicken\",\\n        \"Chicken Schnitzel\",\\n        \"Tiger Prawns\",\\n        \"French Beans\",\\n        \"Creamed Spinach\",\\n        \"Broccoli\",\\n        \"Caesar Salad\",\\n        \"Greek Salad\",\\n        \"House Salad\",\\n        \"Parmesan Salad\",\\n        \"Mozzarelle Salad\"\\n    ],\\n    \"unhealthy\": [\\n        \"Big Burger\",\\n        \"Beef Steak\",\\n        \"Beef Steak\",\\n        \"Cheesecake\",\\n        \"Strawberry Pudding\",\\n        \"Chocolate Pudding\",\\n        \"Strawberry Cake\",\\n        \"Chocolate Cake\",\\n        \"Milkshakes\",\\n        \"Cola\",\\n        \"Coffee\",\\n        \"Lemon Tea\",\\n        \"Mango Float\"\\n    ]\\n}'"
      ]
     },
     "execution_count": 4,
     "metadata": {},
     "output_type": "execute_result"
    }
   ],
   "source": [
    "menu_dishes = analyze_menu(text)\n",
    "\n",
    "menu_dishes"
   ]
  },
  {
   "cell_type": "code",
   "execution_count": 6,
   "metadata": {},
   "outputs": [],
   "source": [
    "\n",
    "\n",
    "json_object = json.loads(menu_dishes)"
   ]
  },
  {
   "cell_type": "code",
   "execution_count": 7,
   "metadata": {},
   "outputs": [
    {
     "data": {
      "text/plain": [
       "['Avocado Sourdough',\n",
       " 'Bruschetta',\n",
       " 'Cornish Crab',\n",
       " 'Peri Chicken',\n",
       " 'Chicken Schnitzel',\n",
       " 'Tiger Prawns',\n",
       " 'French Beans',\n",
       " 'Creamed Spinach',\n",
       " 'Broccoli',\n",
       " 'Caesar Salad',\n",
       " 'Greek Salad',\n",
       " 'House Salad',\n",
       " 'Parmesan Salad',\n",
       " 'Mozzarelle Salad']"
      ]
     },
     "execution_count": 7,
     "metadata": {},
     "output_type": "execute_result"
    }
   ],
   "source": [
    "json_object['healthy']"
   ]
  },
  {
   "cell_type": "code",
   "execution_count": 8,
   "metadata": {},
   "outputs": [
    {
     "data": {
      "text/plain": [
       "['Big Burger',\n",
       " 'Beef Steak',\n",
       " 'Beef Steak',\n",
       " 'Cheesecake',\n",
       " 'Strawberry Pudding',\n",
       " 'Chocolate Pudding',\n",
       " 'Strawberry Cake',\n",
       " 'Chocolate Cake',\n",
       " 'Milkshakes',\n",
       " 'Cola',\n",
       " 'Coffee',\n",
       " 'Lemon Tea',\n",
       " 'Mango Float']"
      ]
     },
     "execution_count": 8,
     "metadata": {},
     "output_type": "execute_result"
    }
   ],
   "source": [
    "json_object['unhealthy']"
   ]
  },
  {
   "cell_type": "code",
   "execution_count": 4,
   "metadata": {},
   "outputs": [
    {
     "name": "stdout",
     "output_type": "stream",
     "text": [
      "[{\"name\": \"tomato soup\", \"calories\": 155.4, \"serving_size_g\": 453.592, \"fat_total_g\": 1.0, \"fat_saturated_g\": 0.0, \"protein_g\": 3.2, \"sodium_mg\": 849, \"potassium_mg\": 68, \"cholesterol_mg\": 0, \"carbohydrates_total_g\": 34.4, \"fiber_g\": 2.5, \"sugar_g\": 18.3}]\n"
     ]
    }
   ],
   "source": [
    "import requests\n",
    "\n",
    "query = '1lb tomato soup'\n",
    "api_url = 'https://api.api-ninjas.com/v1/nutrition?query={}'.format(query)\n",
    "response = requests.get(api_url, headers={'X-Api-Key': os.environ.get(\"NINJAS_API_KEY\")})\n",
    "if response.status_code == requests.codes.ok:\n",
    "    print(response.text)\n",
    "else:\n",
    "    print(\"Error:\", response.status_code, response.text)"
   ]
  },
  {
   "cell_type": "code",
   "execution_count": 2,
   "metadata": {},
   "outputs": [
    {
     "data": {
      "text/plain": [
       "'{\\n    \"step1\": [\\n        \"Ingredients:\",\\n        \"- 1/2 cup whole black lentils (sabut urad dal)\",\\n        \"- 2 tablespoons red kidney beans (rajma)\",\\n        \"- 2 cups water\",\\n        \"- 1 tablespoon ghee\",\\n        \"- 1 small onion, finely chopped\",\\n        \"- 2 teaspoons ginger-garlic paste\",\\n        \"- 2 tomatoes, pureed\",\\n        \"- 1 teaspoon cumin powder\",\\n        \"- 1 teaspoon coriander powder\",\\n        \"- 1/2 teaspoon turmeric powder\",\\n        \"- 1/2 teaspoon red chili powder\",\\n        \"- 1/4 cup fresh cream\",\\n        \"- Salt to taste\",\\n        \"- 1 tablespoon butter\",\\n        \"- 1 tablespoon chopped coriander leaves\"\\n    ],\\n    \"step2\": [\\n        \"Instructions:\",\\n        \"1. Soak the black lentils and kidney beans in water overnight.\",\\n        \"2. In a pressure cooker, add the soaked lentils, kidney beans, and 2 cups of water. Cook on medium heat for about 15-20 minutes or until they are soft and well cooked.\",\\n        \"3. Heat ghee in a separate pan and add chopped onions. Saute until the onions turn light golden brown.\",\\n        \"4. Add ginger-garlic paste and saute for a minute.\",\\n        \"5. Add the pureed tomatoes and cook until the oil separates from the masala.\",\\n        \"6. Add cumin powder, coriander powder, turmeric powder, red chili powder, and salt. Mix well.\",\\n        \"7. Remove the pressure cooker lid and add the prepared masala to the lentils. Mix well and simmer for about 10-15 minutes to allow the flavors to blend together.\",\\n        \"8. Stir in the fresh cream and cook for another 2-3 minutes.\",\\n        \"9. In a separate small pan, melt butter. Add chopped coriander leaves and saute for a minute.\",\\n        \"10. Pour the melted butter and coriander mixture over the dal makhani and mix well.\",\\n        \"11. Serve hot with naan or rice.\",\\n        \"Enjoy your delicious Dal Makhani!\"\\n    ]\\n}'"
      ]
     },
     "execution_count": 2,
     "metadata": {},
     "output_type": "execute_result"
    }
   ],
   "source": [
    "recipe = recipe_generator(\"Dal Makhani\")\n",
    "\n",
    "recipe"
   ]
  },
  {
   "cell_type": "code",
   "execution_count": 5,
   "metadata": {},
   "outputs": [
    {
     "data": {
      "text/plain": [
       "{'step1': ['Ingredients:',\n",
       "  '- 1/2 cup whole black lentils (sabut urad dal)',\n",
       "  '- 2 tablespoons red kidney beans (rajma)',\n",
       "  '- 2 cups water',\n",
       "  '- 1 tablespoon ghee',\n",
       "  '- 1 small onion, finely chopped',\n",
       "  '- 2 teaspoons ginger-garlic paste',\n",
       "  '- 2 tomatoes, pureed',\n",
       "  '- 1 teaspoon cumin powder',\n",
       "  '- 1 teaspoon coriander powder',\n",
       "  '- 1/2 teaspoon turmeric powder',\n",
       "  '- 1/2 teaspoon red chili powder',\n",
       "  '- 1/4 cup fresh cream',\n",
       "  '- Salt to taste',\n",
       "  '- 1 tablespoon butter',\n",
       "  '- 1 tablespoon chopped coriander leaves'],\n",
       " 'step2': ['Instructions:',\n",
       "  '1. Soak the black lentils and kidney beans in water overnight.',\n",
       "  '2. In a pressure cooker, add the soaked lentils, kidney beans, and 2 cups of water. Cook on medium heat for about 15-20 minutes or until they are soft and well cooked.',\n",
       "  '3. Heat ghee in a separate pan and add chopped onions. Saute until the onions turn light golden brown.',\n",
       "  '4. Add ginger-garlic paste and saute for a minute.',\n",
       "  '5. Add the pureed tomatoes and cook until the oil separates from the masala.',\n",
       "  '6. Add cumin powder, coriander powder, turmeric powder, red chili powder, and salt. Mix well.',\n",
       "  '7. Remove the pressure cooker lid and add the prepared masala to the lentils. Mix well and simmer for about 10-15 minutes to allow the flavors to blend together.',\n",
       "  '8. Stir in the fresh cream and cook for another 2-3 minutes.',\n",
       "  '9. In a separate small pan, melt butter. Add chopped coriander leaves and saute for a minute.',\n",
       "  '10. Pour the melted butter and coriander mixture over the dal makhani and mix well.',\n",
       "  '11. Serve hot with naan or rice.',\n",
       "  'Enjoy your delicious Dal Makhani!']}"
      ]
     },
     "execution_count": 5,
     "metadata": {},
     "output_type": "execute_result"
    }
   ],
   "source": [
    "json_obj = json.loads(recipe)\n",
    "\n",
    "json_obj"
   ]
  },
  {
   "cell_type": "code",
   "execution_count": 2,
   "metadata": {},
   "outputs": [
    {
     "data": {
      "text/plain": [
       "'{\\n    \"origin\": \"Dal Makhani is a popular North Indian dish that originated in the Punjab region of India. It is a hearty lentil curry made with black lentils (urad dal), kidney beans (rajma), butter, and cream. The dish is known for its creamy and rich texture, as well as its aromatic blend of spices.\",\\n    \"history\": \"The origins of Dal Makhani can be traced back to the Mughal era in India. It is said that the dish was initially created in the kitchens of the Mughal emperors, who were known for their love of rich and indulgent food. Over time, Dal Makhani became popular across North India and eventually spread to other parts of the country. Today, it is a staple in Indian restaurants both in India and around the world, loved for its delicious taste and comforting flavors.\"\\n}'"
      ]
     },
     "execution_count": 2,
     "metadata": {},
     "output_type": "execute_result"
    }
   ],
   "source": [
    "history = history_and_origin(\"Dal Makhani\")\n",
    "\n",
    "history"
   ]
  },
  {
   "cell_type": "code",
   "execution_count": 3,
   "metadata": {},
   "outputs": [
    {
     "data": {
      "text/plain": [
       "{'origin': 'Dal Makhani is a popular North Indian dish that originated in the Punjab region of India. It is a hearty lentil curry made with black lentils (urad dal), kidney beans (rajma), butter, and cream. The dish is known for its creamy and rich texture, as well as its aromatic blend of spices.',\n",
       " 'history': 'The origins of Dal Makhani can be traced back to the Mughal era in India. It is said that the dish was initially created in the kitchens of the Mughal emperors, who were known for their love of rich and indulgent food. Over time, Dal Makhani became popular across North India and eventually spread to other parts of the country. Today, it is a staple in Indian restaurants both in India and around the world, loved for its delicious taste and comforting flavors.'}"
      ]
     },
     "execution_count": 3,
     "metadata": {},
     "output_type": "execute_result"
    }
   ],
   "source": [
    "json_obj = json.loads(history)\n",
    "\n",
    "json_obj"
   ]
  },
  {
   "cell_type": "code",
   "execution_count": null,
   "metadata": {},
   "outputs": [],
   "source": []
  }
 ],
 "metadata": {
  "kernelspec": {
   "display_name": "llm",
   "language": "python",
   "name": "python3"
  },
  "language_info": {
   "codemirror_mode": {
    "name": "ipython",
    "version": 3
   },
   "file_extension": ".py",
   "mimetype": "text/x-python",
   "name": "python",
   "nbconvert_exporter": "python",
   "pygments_lexer": "ipython3",
   "version": "3.11.2"
  },
  "orig_nbformat": 4
 },
 "nbformat": 4,
 "nbformat_minor": 2
}
